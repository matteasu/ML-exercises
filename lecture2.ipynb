{
  "nbformat": 4,
  "nbformat_minor": 0,
  "metadata": {
    "colab": {
      "name": "lecture2.ipynb",
      "provenance": [],
      "authorship_tag": "ABX9TyM5F4ZvQcr6Unel3g67lCQT",
      "include_colab_link": true
    },
    "kernelspec": {
      "name": "python3",
      "display_name": "Python 3"
    },
    "language_info": {
      "name": "python"
    }
  },
  "cells": [
    {
      "cell_type": "markdown",
      "metadata": {
        "id": "view-in-github",
        "colab_type": "text"
      },
      "source": [
        "<a href=\"https://colab.research.google.com/github/matteasu/ML-exercises/blob/main/lecture2.ipynb\" target=\"_parent\"><img src=\"https://colab.research.google.com/assets/colab-badge.svg\" alt=\"Open In Colab\"/></a>"
      ]
    },
    {
      "cell_type": "code",
      "source": [
        "import numpy as np\n",
        "\n",
        "n = [20,30,50] # number of samples for each class\n",
        "mu = [[0,0,0],\n",
        "      [5,5,5],\n",
        "      [-5,-5,-5]] #mean vector for each different class \n",
        "\n",
        "\n",
        "def make_gaussian_dataset(n,mu):\n",
        "  #casting to ndarray\n",
        "  n = np.array(n)\n",
        "  mu = np.array(mu)\n",
        "  assert n.size == mu.shape[0]\n",
        "  n_classes = mu.shape[0] #number of rows in mu\n",
        "  n_features = mu.shape[1] #number of columns in mu\n",
        "\n",
        "  n_samples = np.sum(n)\n",
        "\n",
        "  x = np.zeros(shape=(n_samples,n_features))\n",
        "  y = np.zeros(shape=(n_samples,))\n",
        "\n",
        "  start_idx = 0\n",
        "\n",
        "\n",
        "  for k in range(n_classes):\n",
        "    #generating data for class k\n",
        "    xk = np.random.randn(n[k],n_features) + mu[k,:] #extracting all the row k from mu\n",
        "    yk = k*np.ones(shape=(n[k],))\n",
        "    #copying the generated data into the main matrixes\n",
        "    x[start_idx:start_idx+n[k],:] = xk\n",
        "    y[start_idx:start_idx+n[k]] = yk\n",
        "    start_idx = n[k]\n",
        "\n",
        "  return x,y\n",
        "\n",
        "  #from matplotlib import pyplot as plt\n",
        "  #plt.plot(x0[:,0],x0[:,1],'.') #plotting the first and second column\n",
        "  #plt.show()\n",
        "\n",
        "\n",
        "x,y = make_gaussian_dataset(n,mu)\n",
        "print('xn:\\n',x)\n",
        "print('yn:\\n',y) "
      ],
      "metadata": {
        "colab": {
          "base_uri": "https://localhost:8080/"
        },
        "id": "FqNA1Gjdjt-D",
        "outputId": "f36822c4-e085-4071-d111-45cf243ddab8"
      },
      "execution_count": 3,
      "outputs": [
        {
          "output_type": "stream",
          "name": "stdout",
          "text": [
            "xn:\n",
            " [[-1.13300308e-01  4.25927820e-01  1.26362639e+00]\n",
            " [-6.45032497e-01  1.04064522e-01 -6.23957750e-01]\n",
            " [-5.40072315e-01 -1.73010199e+00 -1.72212432e-01]\n",
            " [ 8.89263702e-01  6.16086105e-01 -8.61926870e-01]\n",
            " [ 1.34428386e+00  9.51805429e-01  2.89841501e-01]\n",
            " [ 1.79252329e+00 -4.09316868e-01 -8.42460806e-01]\n",
            " [ 3.14196341e-02 -1.39576674e-03 -1.56713823e+00]\n",
            " [-2.31643283e+00  1.81571517e-01  6.68673766e-01]\n",
            " [ 1.50952143e+00  9.38542173e-01 -8.32689527e-01]\n",
            " [-5.50840404e-02 -3.80359506e-01 -4.89771638e-02]\n",
            " [-4.19766157e-01 -1.01167843e+00 -9.16672416e-02]\n",
            " [ 3.39065766e-01  3.22256359e-01 -1.17954403e+00]\n",
            " [ 2.65572826e-01  2.00590803e+00  1.08507396e+00]\n",
            " [-1.55312061e+00  3.74158421e-01  1.27544452e+00]\n",
            " [ 3.09592282e-01  3.59388471e-02 -4.81287829e-01]\n",
            " [ 3.56325533e-02  4.87755677e-01 -1.84420165e+00]\n",
            " [ 1.08847020e+00 -3.77431129e-01 -2.41591484e-01]\n",
            " [-1.37349358e+00 -4.90292907e-01  1.09530222e+00]\n",
            " [-1.85794673e+00  1.12504531e+00  2.91944330e-01]\n",
            " [ 1.68858421e-01  1.09484117e+00 -8.11825401e-01]\n",
            " [ 3.64457677e+00  5.67045919e+00  7.01617791e+00]\n",
            " [ 5.84029088e+00  5.23442289e+00  4.43733584e+00]\n",
            " [ 2.63818656e+00  6.56638262e+00  5.13154248e+00]\n",
            " [ 4.19272382e+00  4.90402917e+00  4.01354899e+00]\n",
            " [ 4.71818950e+00  5.52152692e+00  6.88876655e+00]\n",
            " [ 6.94261132e+00  2.82232596e+00  6.50819502e+00]\n",
            " [ 4.43222961e+00  4.67324412e+00  5.37866897e+00]\n",
            " [ 5.56984959e+00  5.02013248e+00  5.06087692e+00]\n",
            " [ 5.27579952e+00  5.86674106e+00  4.79675251e+00]\n",
            " [ 3.04165121e+00  5.32154930e+00  5.76821156e+00]\n",
            " [-4.15578110e+00 -5.65629973e+00 -5.83931922e+00]\n",
            " [-5.34837494e+00 -4.41630898e+00 -6.06311464e+00]\n",
            " [-4.87845931e+00 -4.49545271e+00 -4.29205527e+00]\n",
            " [-2.61188353e+00 -5.21063204e+00 -5.64024630e+00]\n",
            " [-4.88991514e+00 -4.98430583e+00 -3.91122161e+00]\n",
            " [-5.04734492e+00 -3.36190687e+00 -4.53869914e+00]\n",
            " [-4.58157077e+00 -5.30182771e+00 -6.56320025e+00]\n",
            " [-5.86980321e+00 -3.55221379e+00 -2.84229795e+00]\n",
            " [-4.76336580e+00 -3.94392597e+00 -4.13272305e+00]\n",
            " [-5.09608366e+00 -4.48103828e+00 -5.67307122e+00]\n",
            " [-4.02054370e+00 -5.52020012e+00 -3.25770584e+00]\n",
            " [-5.76332382e+00 -5.53569781e+00 -4.27270893e+00]\n",
            " [-4.22693692e+00 -4.36318811e+00 -2.35928911e+00]\n",
            " [-4.66195818e+00 -6.30150234e+00 -4.20093886e+00]\n",
            " [-4.47126209e+00 -5.21393244e+00 -5.51683560e+00]\n",
            " [-5.51577254e+00 -5.50511604e+00 -7.03988904e+00]\n",
            " [-5.37996518e+00 -6.73276772e+00 -5.24278709e+00]\n",
            " [-7.33813133e+00 -4.19422919e+00 -4.01371611e+00]\n",
            " [-4.05969461e+00 -4.05684186e+00 -3.33758274e+00]\n",
            " [-5.29617466e+00 -5.36401166e+00 -6.11110388e+00]\n",
            " [-4.92784672e+00 -3.51118464e+00 -4.14098014e+00]\n",
            " [-4.76286019e+00 -8.41516674e+00 -5.40459681e+00]\n",
            " [-4.34139020e+00 -5.67725702e+00 -4.97125538e+00]\n",
            " [-6.04867628e+00 -4.71350353e+00 -5.00158339e+00]\n",
            " [-4.22498302e+00 -6.51745747e+00 -5.82956496e+00]\n",
            " [-5.47059612e+00 -6.32081421e+00 -5.91839493e+00]\n",
            " [-5.79059277e+00 -5.56383541e+00 -7.46195384e+00]\n",
            " [-3.69513481e+00 -4.68919705e+00 -4.62291116e+00]\n",
            " [-4.33862636e+00 -6.77075032e+00 -6.27035939e+00]\n",
            " [-5.01666112e+00 -7.86053249e+00 -3.50187025e+00]\n",
            " [-3.30811272e+00 -6.64362983e+00 -3.96453315e+00]\n",
            " [-6.34316585e+00 -5.20337296e+00 -4.38064061e+00]\n",
            " [-6.93098060e+00 -4.66322692e+00 -2.54671018e+00]\n",
            " [-5.42648651e+00 -3.76958178e+00 -6.60562155e+00]\n",
            " [-5.51116288e+00 -5.86096101e+00 -5.66345983e+00]\n",
            " [-5.23901493e+00 -4.57595626e+00 -6.03194360e+00]\n",
            " [-6.13258196e+00 -4.18384788e+00 -6.08579797e+00]\n",
            " [-4.72554298e+00 -4.65692118e+00 -5.80174895e+00]\n",
            " [-3.92567713e+00 -4.47748020e+00 -3.34511100e+00]\n",
            " [-5.84876375e+00 -5.53850105e+00 -4.39268575e+00]\n",
            " [-5.46524520e+00 -5.11114888e+00 -4.39896673e+00]\n",
            " [-4.89221325e+00 -5.19233948e+00 -6.84969578e+00]\n",
            " [-6.04442737e+00 -5.35638512e+00 -5.31125201e+00]\n",
            " [-4.20530843e+00 -6.67551418e+00 -2.57508258e+00]\n",
            " [-4.78326436e+00 -4.62384913e+00 -4.77245687e+00]\n",
            " [-4.72038151e+00 -5.03682099e+00 -2.96906350e+00]\n",
            " [-4.32306971e+00 -4.74558850e+00 -3.81042851e+00]\n",
            " [-4.47767063e+00 -5.20267762e+00 -5.74841082e+00]\n",
            " [-6.47012905e+00 -6.15139679e+00 -5.47552797e+00]\n",
            " [-4.66814790e+00 -6.45055338e+00 -4.81031784e+00]\n",
            " [ 0.00000000e+00  0.00000000e+00  0.00000000e+00]\n",
            " [ 0.00000000e+00  0.00000000e+00  0.00000000e+00]\n",
            " [ 0.00000000e+00  0.00000000e+00  0.00000000e+00]\n",
            " [ 0.00000000e+00  0.00000000e+00  0.00000000e+00]\n",
            " [ 0.00000000e+00  0.00000000e+00  0.00000000e+00]\n",
            " [ 0.00000000e+00  0.00000000e+00  0.00000000e+00]\n",
            " [ 0.00000000e+00  0.00000000e+00  0.00000000e+00]\n",
            " [ 0.00000000e+00  0.00000000e+00  0.00000000e+00]\n",
            " [ 0.00000000e+00  0.00000000e+00  0.00000000e+00]\n",
            " [ 0.00000000e+00  0.00000000e+00  0.00000000e+00]\n",
            " [ 0.00000000e+00  0.00000000e+00  0.00000000e+00]\n",
            " [ 0.00000000e+00  0.00000000e+00  0.00000000e+00]\n",
            " [ 0.00000000e+00  0.00000000e+00  0.00000000e+00]\n",
            " [ 0.00000000e+00  0.00000000e+00  0.00000000e+00]\n",
            " [ 0.00000000e+00  0.00000000e+00  0.00000000e+00]\n",
            " [ 0.00000000e+00  0.00000000e+00  0.00000000e+00]\n",
            " [ 0.00000000e+00  0.00000000e+00  0.00000000e+00]\n",
            " [ 0.00000000e+00  0.00000000e+00  0.00000000e+00]\n",
            " [ 0.00000000e+00  0.00000000e+00  0.00000000e+00]\n",
            " [ 0.00000000e+00  0.00000000e+00  0.00000000e+00]]\n",
            "yn:\n",
            " [0. 0. 0. 0. 0. 0. 0. 0. 0. 0. 0. 0. 0. 0. 0. 0. 0. 0. 0. 0. 1. 1. 1. 1.\n",
            " 1. 1. 1. 1. 1. 1. 2. 2. 2. 2. 2. 2. 2. 2. 2. 2. 2. 2. 2. 2. 2. 2. 2. 2.\n",
            " 2. 2. 2. 2. 2. 2. 2. 2. 2. 2. 2. 2. 2. 2. 2. 2. 2. 2. 2. 2. 2. 2. 2. 2.\n",
            " 2. 2. 2. 2. 2. 2. 2. 2. 0. 0. 0. 0. 0. 0. 0. 0. 0. 0. 0. 0. 0. 0. 0. 0.\n",
            " 0. 0. 0. 0.]\n"
          ]
        }
      ]
    },
    {
      "cell_type": "markdown",
      "source": [
        "## Exercise 2\n",
        "Define a function that plots a dataset using a different color fo reach class:\n",
        "- `plot_dataset(x,y, feat_1=0, feat_2=1)`\n",
        "\n",
        "Hints:\n",
        "- `import matplotlib.pyplot as plt`\n",
        "- `plt.scatter(x1, x2, color='r)`\n",
        "- plots the point (x1,x2) as a red point\n",
        "- Colors are: `['k', 'b', 'r', 'g', 'c', 'm', 'y']`\n",
        "- bool_class0 = (y==0) #select samples belonging to class 0\n",
        "\n",
        "Other useful functions:\n",
        "`plt.xlabel()`, `plt.ylabel()`, `plt.leggend()`, `plt.show()`\n",
        "\n"
      ],
      "metadata": {
        "id": "aAOtEEM2i6kc"
      }
    },
    {
      "cell_type": "code",
      "source": [
        "import matplotlib.pyplot as plt\n",
        "\n",
        "def plot_dataset(x,y,d0,d1):\n",
        "  n_classes = np.unique(y).size\n",
        "  colors = ['r.', 'g.', 'b.']\n",
        "  for k in range(n_classes):\n",
        "\n",
        "    plt.plot(x[y==k,d0],x[y==k,d1],colors[k])\n",
        "  plt.show()\n",
        "\n",
        "plot_dataset(x,y,0,1)"
      ],
      "metadata": {
        "colab": {
          "base_uri": "https://localhost:8080/",
          "height": 265
        },
        "id": "lj9ZRRT5l2db",
        "outputId": "16b01a44-dc0e-4631-8f55-5f644e1349ce"
      },
      "execution_count": 6,
      "outputs": [
        {
          "output_type": "display_data",
          "data": {
            "text/plain": [
              "<Figure size 432x288 with 1 Axes>"
            ],
            "image/png": "[encoded data removed]"
          },
          "metadata": {
            "needs_background": "light"
          }
        }
      ]
    }
  ]
}