{
  "nbformat": 4,
  "nbformat_minor": 0,
  "metadata": {
    "colab": {
      "name": "lecture2.ipynb",
      "provenance": [],
      "authorship_tag": "ABX9TyNxWJw/3YnqJEBlwttt1/zF",
      "include_colab_link": true
    },
    "kernelspec": {
      "name": "python3",
      "display_name": "Python 3"
    },
    "language_info": {
      "name": "python"
    }
  },
  "cells": [
    {
      "cell_type": "markdown",
      "metadata": {
        "id": "view-in-github",
        "colab_type": "text"
      },
      "source": [
        "<a href=\"https://colab.research.google.com/github/matteasu/ML-exercises/blob/main/lecture2.ipynb\" target=\"_parent\"><img src=\"https://colab.research.google.com/assets/colab-badge.svg\" alt=\"Open In Colab\"/></a>"
      ]
    },
    {
      "cell_type": "code",
      "execution_count": null,
      "metadata": {
        "id": "E9aInxs2VCVO"
      },
      "outputs": [],
      "source": [
        ""
      ]
    },
    {
      "cell_type": "code",
      "source": [
        "import numpy as np\n",
        "\n",
        "n = [20,30,50] # number of samples for each class\n",
        "mu = [[0,0,0],\n",
        "      [5,5,5],\n",
        "      [-5,-5,-5]] #mean vector for each different class \n",
        "\n",
        "\n",
        "def make_gaussian_dataset(n,mu):\n",
        "  #casting to ndarray\n",
        "  n = np.array(n)\n",
        "  mu = np.array(mu)\n",
        "  assert n.size == mu.shape[0]\n",
        "  n_classes = mu.shape[0] #number of rows in mu\n",
        "  n_features = mu.shape[1] #number of columns in mu\n",
        "\n",
        "  n_samples = np.sum(n)\n",
        "\n",
        "  x = np.zeros(shape=(n_samples,n_features))\n",
        "  y = np.zeros(shape=(n_samples,))\n",
        "\n",
        "  start_idx = 0\n",
        "\n",
        "\n",
        "  for k in range(n_classes):\n",
        "    #generating data for class k\n",
        "    xk = np.random.randn(n[k],n_features) + mu[k,:] #extracting all the row k from mu\n",
        "    yk = k*np.ones(shape=(n[k],))\n",
        "    #copying the generated data into the main matrixes\n",
        "    x[start_idx:start_idx+n[k],:] = xk\n",
        "    y[start_idx:start_idx+n[k]] = yk\n",
        "    start_idx = n[k]\n",
        "\n",
        "\n",
        "  x = np.vstack((x0,x1))\n",
        "  y = np.hstack((y0,y1))\n",
        "  return x,y\n",
        "\n",
        "  #from matplotlib import pyplot as plt\n",
        "  #plt.plot(x0[:,0],x0[:,1],'.') #plotting the first and second column\n",
        "  #plt.show()\n",
        "\n",
        "\n",
        "xn,yn = make_gaussian_dataset(10,10,[-1,-1],[+1,+1])\n",
        "print('xn:\\n',xn)\n",
        "print('yn:\\n',yn) "
      ],
      "metadata": {
        "colab": {
          "base_uri": "https://localhost:8080/"
        },
        "id": "FqNA1Gjdjt-D",
        "outputId": "613de8e0-d394-46c2-81dc-5db01b839bcd"
      },
      "execution_count": 1,
      "outputs": [
        {
          "output_type": "stream",
          "name": "stdout",
          "text": [
            "xn:\n",
            " [[ 0.50123476 -1.2383058 ]\n",
            " [ 0.08319429 -1.14399628]\n",
            " [-0.11330516 -2.01906331]\n",
            " [-0.44805409 -1.15577179]\n",
            " [-1.70728625 -0.83066779]\n",
            " [-2.81486419 -0.9380794 ]\n",
            " [ 0.35874079 -1.09794383]\n",
            " [-2.27318022 -2.07670585]\n",
            " [-1.60865048 -2.37015111]\n",
            " [-0.95179112 -1.01822732]\n",
            " [-0.24296025  0.81367033]\n",
            " [ 1.9635404   0.31635995]\n",
            " [ 1.03893441  0.9633946 ]\n",
            " [ 1.31543159 -0.47821126]\n",
            " [ 2.47646981  2.9851416 ]\n",
            " [-1.22384572  1.68961611]\n",
            " [ 0.44692455  1.52520245]\n",
            " [ 1.50851161  1.23921856]\n",
            " [ 0.75937418  1.37981794]\n",
            " [ 2.3419892   0.65199584]]\n",
            "yn:\n",
            " [0. 0. 0. 0. 0. 0. 0. 0. 0. 0. 1. 1. 1. 1. 1. 1. 1. 1. 1. 1.]\n"
          ]
        }
      ]
    },
    {
      "cell_type": "markdown",
      "source": [
        "## Exercise 2\n",
        "Define a function that plots a dataset using a different color fo reach class:\n",
        "- `plot_dataset(x,y, feat_1=0, feat_2=1)`\n",
        "\n",
        "Hints:\n",
        "- `import matplotlib.pyplot as plt`\n",
        "- `plt.scatter(x1, x2, color='r)`\n",
        "- plots the point (x1,x2) as a red point\n",
        "- Colors are: `['k', 'b', 'r', 'g', 'c', 'm', 'y']`\n",
        "- bool_class0 = (y==0) #select samples belonging to class 0\n",
        "\n",
        "Other useful functions:\n",
        "`plt.xlabel()`, `plt.ylabel()`, `plt.leggend()`, `plt.show()`\n",
        "\n"
      ],
      "metadata": {
        "id": "aAOtEEM2i6kc"
      }
    }
  ]
}