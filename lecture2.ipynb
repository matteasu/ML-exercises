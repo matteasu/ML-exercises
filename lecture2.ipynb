{
  "nbformat": 4,
  "nbformat_minor": 0,
  "metadata": {
    "colab": {
      "name": "lecture2.ipynb",
      "provenance": [],
      "authorship_tag": "ABX9TyNv94thvEVmukWJfZv3l5ZJ",
      "include_colab_link": true
    },
    "kernelspec": {
      "name": "python3",
      "display_name": "Python 3"
    },
    "language_info": {
      "name": "python"
    }
  },
  "cells": [
    {
      "cell_type": "markdown",
      "metadata": {
        "id": "view-in-github",
        "colab_type": "text"
      },
      "source": [
        "<a href=\"https://colab.research.google.com/github/matteasu/ML-exercises/blob/main/lecture2.ipynb\" target=\"_parent\"><img src=\"https://colab.research.google.com/assets/colab-badge.svg\" alt=\"Open In Colab\"/></a>"
      ]
    },
    {
      "cell_type": "code",
      "source": [
        "import numpy as np\n",
        "\n",
        "n = [20,30,50] # number of samples for each class\n",
        "mu = [[0,0,0],\n",
        "      [5,5,5],\n",
        "      [-5,-5,-5]] #mean vector for each different class \n",
        "\n",
        "\n",
        "def make_gaussian_dataset(n,mu):\n",
        "  #casting to ndarray\n",
        "  n = np.array(n)\n",
        "  mu = np.array(mu)\n",
        "  assert n.size == mu.shape[0]\n",
        "  n_classes = mu.shape[0] #number of rows in mu\n",
        "  n_features = mu.shape[1] #number of columns in mu\n",
        "\n",
        "  n_samples = np.sum(n)\n",
        "\n",
        "  x = np.zeros(shape=(n_samples,n_features))\n",
        "  y = np.zeros(shape=(n_samples,))\n",
        "\n",
        "  start_idx = 0\n",
        "\n",
        "\n",
        "  for k in range(n_classes):\n",
        "    #generating data for class k\n",
        "    xk = np.random.randn(n[k],n_features) + mu[k,:] #extracting all the row k from mu\n",
        "    yk = k*np.ones(shape=(n[k],))\n",
        "    #copying the generated data into the main matrixes\n",
        "    x[start_idx:start_idx+n[k],:] = xk\n",
        "    y[start_idx:start_idx+n[k]] = yk\n",
        "    start_idx = n[k]\n",
        "\n",
        "  return x,y\n",
        "\n",
        "  #from matplotlib import pyplot as plt\n",
        "  #plt.plot(x0[:,0],x0[:,1],'.') #plotting the first and second column\n",
        "  #plt.show()\n",
        "\n",
        "\n",
        "x,y = make_gaussian_dataset(n,mu)\n",
        "print('xn:\\n',x)\n",
        "print('yn:\\n',y) "
      ],
      "metadata": {
        "colab": {
          "base_uri": "https://localhost:8080/"
        },
        "id": "FqNA1Gjdjt-D",
        "outputId": "3512a3a6-822e-4082-a0d2-2384fc16452d"
      },
      "execution_count": null,
      "outputs": [
        {
          "output_type": "stream",
          "name": "stdout",
          "text": [
            "xn:\n",
            " [[-2.07816871e+00 -9.86572534e-01 -1.60899875e+00]\n",
            " [-1.02602479e+00 -1.49907149e+00 -1.13198260e+00]\n",
            " [ 5.34530222e-01 -4.94627070e-02 -5.17508720e-03]\n",
            " [ 2.71066808e-01  1.47086225e+00 -1.47938773e+00]\n",
            " [ 9.60489961e-01  2.14871907e-01  1.56997837e-01]\n",
            " [ 5.16427265e-01  1.98513824e+00  1.27888561e+00]\n",
            " [ 6.22033470e-01 -5.61134807e-01 -3.29634425e-01]\n",
            " [ 2.23712258e+00  1.41720295e+00  1.56126456e+00]\n",
            " [-7.54415383e-01 -7.14089435e-01  1.14443447e+00]\n",
            " [ 1.55112203e+00 -1.61764126e+00  5.17966473e-01]\n",
            " [-5.76357703e-01 -1.24550314e+00  7.20925061e-01]\n",
            " [-1.54455047e-01 -1.20718146e-01  7.71050648e-01]\n",
            " [ 1.09499230e+00 -2.30089595e-01 -3.47980280e-01]\n",
            " [ 7.05267332e-01 -2.47617154e-01 -7.31696857e-01]\n",
            " [ 5.75761504e-01 -2.04210070e-01 -6.77155544e-01]\n",
            " [-1.15972855e+00 -8.73357000e-01 -1.62206423e+00]\n",
            " [-5.80337165e-01  1.39728370e-01 -2.91888286e+00]\n",
            " [-7.76804771e-01 -8.71453355e-01  8.28708309e-01]\n",
            " [-7.22431526e-01  1.18849169e+00 -9.83271385e-01]\n",
            " [-5.29097006e-02 -1.77527504e+00 -2.26883046e+00]\n",
            " [ 4.19332859e+00  6.43178619e+00  4.64607672e+00]\n",
            " [ 6.06652603e+00  4.74617953e+00  3.23807072e+00]\n",
            " [ 4.92788666e+00  3.80120254e+00  4.57850457e+00]\n",
            " [ 5.57449867e+00  5.15092654e+00  2.63723429e+00]\n",
            " [ 5.85249973e+00  4.31091628e+00  4.65771953e+00]\n",
            " [ 4.52943319e+00  5.07470520e+00  2.88345645e+00]\n",
            " [ 4.15176802e+00  4.70151972e+00  4.22464832e+00]\n",
            " [ 5.94928100e+00  4.73061163e+00  6.28153276e+00]\n",
            " [ 5.99570261e+00  5.83881747e+00  3.87740146e+00]\n",
            " [ 5.39223453e+00  6.25932567e+00  5.43303309e+00]\n",
            " [-5.20498001e+00 -2.61773167e+00 -5.57029755e+00]\n",
            " [-6.54759200e+00 -4.11941622e+00 -4.23992084e+00]\n",
            " [-5.09433622e+00 -4.53060235e+00 -4.22329649e+00]\n",
            " [-6.35719330e+00 -4.68736584e+00 -6.74792643e+00]\n",
            " [-5.76243432e+00 -5.07656024e+00 -3.75676661e+00]\n",
            " [-4.41544628e+00 -3.92783693e+00 -5.40892494e+00]\n",
            " [-2.70145644e+00 -4.92544624e+00 -6.16174508e+00]\n",
            " [-4.61782376e+00 -6.59027589e+00 -6.64600200e+00]\n",
            " [-6.38215509e+00 -3.30708230e+00 -4.93135870e+00]\n",
            " [-2.86014198e+00 -5.54421377e+00 -5.14671690e+00]\n",
            " [-4.34286801e+00 -2.77980758e+00 -3.20137213e+00]\n",
            " [-3.10929180e+00 -3.08879989e+00 -6.42656992e+00]\n",
            " [-4.65359864e+00 -4.19604603e+00 -4.99622271e+00]\n",
            " [-4.42851051e+00 -5.90214595e+00 -4.66968226e+00]\n",
            " [-4.40786239e+00 -6.56311071e+00 -4.80790477e+00]\n",
            " [-4.80577152e+00 -5.86837065e+00 -5.32398287e+00]\n",
            " [-3.85219292e+00 -4.82962317e+00 -4.09403188e+00]\n",
            " [-3.03614456e+00 -5.49246004e+00 -4.53768715e+00]\n",
            " [-6.12541380e+00 -4.98322349e+00 -4.40521457e+00]\n",
            " [-3.60173941e+00 -5.07761422e+00 -5.27040090e+00]\n",
            " [-3.66906904e+00 -4.83681264e+00 -5.87087683e+00]\n",
            " [-4.53936483e+00 -4.91879061e+00 -7.24311226e+00]\n",
            " [-4.62026119e+00 -4.43318933e+00 -4.40105036e+00]\n",
            " [-5.21196023e+00 -5.55595604e+00 -5.53355526e+00]\n",
            " [-4.64351552e+00 -6.91026500e+00 -4.06638401e+00]\n",
            " [-4.39108802e+00 -4.65884959e+00 -4.02514511e+00]\n",
            " [-4.59101335e+00 -4.12256169e+00 -4.88830746e+00]\n",
            " [-7.57050724e+00 -4.25112209e+00 -4.72868830e+00]\n",
            " [-6.08502513e+00 -4.03104662e+00 -2.34320359e+00]\n",
            " [-4.64313091e+00 -5.86745904e+00 -4.15698367e+00]\n",
            " [-5.15777328e+00 -5.54174546e+00 -4.59705466e+00]\n",
            " [-3.16833260e+00 -4.14843066e+00 -7.15516215e+00]\n",
            " [-5.38084223e+00 -4.50131076e+00 -3.26274083e+00]\n",
            " [-3.59901858e+00 -5.23347747e+00 -4.55948794e+00]\n",
            " [-6.00129493e+00 -7.25971626e+00 -5.30398049e+00]\n",
            " [-3.43812022e+00 -4.11655699e+00 -5.53958333e+00]\n",
            " [-3.25314016e+00 -6.19758831e+00 -3.98252391e+00]\n",
            " [-5.39712086e+00 -3.91130348e+00 -5.90299070e+00]\n",
            " [-4.38091457e+00 -5.12008196e+00 -3.37287710e+00]\n",
            " [-5.61237158e+00 -4.98317353e+00 -6.17184900e+00]\n",
            " [-5.96269901e+00 -4.70982089e+00 -6.83276212e+00]\n",
            " [-4.91677703e+00 -5.26583656e+00 -5.66222753e+00]\n",
            " [-5.12830868e+00 -5.06190772e+00 -4.00943761e+00]\n",
            " [-5.10958080e+00 -4.13483907e+00 -3.48789884e+00]\n",
            " [-4.95837097e+00 -5.56065336e+00 -3.81122913e+00]\n",
            " [-5.55507305e+00 -4.34673841e+00 -5.77133893e+00]\n",
            " [-4.07681439e+00 -5.35944873e+00 -3.72283974e+00]\n",
            " [-6.03037460e+00 -5.62459568e+00 -5.03314579e+00]\n",
            " [-3.96232704e+00 -4.98051503e+00 -4.97366862e+00]\n",
            " [-5.39253008e+00 -6.12999623e+00 -6.07039814e+00]\n",
            " [ 0.00000000e+00  0.00000000e+00  0.00000000e+00]\n",
            " [ 0.00000000e+00  0.00000000e+00  0.00000000e+00]\n",
            " [ 0.00000000e+00  0.00000000e+00  0.00000000e+00]\n",
            " [ 0.00000000e+00  0.00000000e+00  0.00000000e+00]\n",
            " [ 0.00000000e+00  0.00000000e+00  0.00000000e+00]\n",
            " [ 0.00000000e+00  0.00000000e+00  0.00000000e+00]\n",
            " [ 0.00000000e+00  0.00000000e+00  0.00000000e+00]\n",
            " [ 0.00000000e+00  0.00000000e+00  0.00000000e+00]\n",
            " [ 0.00000000e+00  0.00000000e+00  0.00000000e+00]\n",
            " [ 0.00000000e+00  0.00000000e+00  0.00000000e+00]\n",
            " [ 0.00000000e+00  0.00000000e+00  0.00000000e+00]\n",
            " [ 0.00000000e+00  0.00000000e+00  0.00000000e+00]\n",
            " [ 0.00000000e+00  0.00000000e+00  0.00000000e+00]\n",
            " [ 0.00000000e+00  0.00000000e+00  0.00000000e+00]\n",
            " [ 0.00000000e+00  0.00000000e+00  0.00000000e+00]\n",
            " [ 0.00000000e+00  0.00000000e+00  0.00000000e+00]\n",
            " [ 0.00000000e+00  0.00000000e+00  0.00000000e+00]\n",
            " [ 0.00000000e+00  0.00000000e+00  0.00000000e+00]\n",
            " [ 0.00000000e+00  0.00000000e+00  0.00000000e+00]\n",
            " [ 0.00000000e+00  0.00000000e+00  0.00000000e+00]]\n",
            "yn:\n",
            " [0. 0. 0. 0. 0. 0. 0. 0. 0. 0. 0. 0. 0. 0. 0. 0. 0. 0. 0. 0. 1. 1. 1. 1.\n",
            " 1. 1. 1. 1. 1. 1. 2. 2. 2. 2. 2. 2. 2. 2. 2. 2. 2. 2. 2. 2. 2. 2. 2. 2.\n",
            " 2. 2. 2. 2. 2. 2. 2. 2. 2. 2. 2. 2. 2. 2. 2. 2. 2. 2. 2. 2. 2. 2. 2. 2.\n",
            " 2. 2. 2. 2. 2. 2. 2. 2. 0. 0. 0. 0. 0. 0. 0. 0. 0. 0. 0. 0. 0. 0. 0. 0.\n",
            " 0. 0. 0. 0.]\n"
          ]
        }
      ]
    },
    {
      "cell_type": "markdown",
      "source": [
        "## Exercise 2\n",
        "Define a function that plots a dataset using a different color fo reach class:\n",
        "- `plot_dataset(x,y, feat_1=0, feat_2=1)`\n",
        "\n",
        "Hints:\n",
        "- `import matplotlib.pyplot as plt`\n",
        "- `plt.scatter(x1, x2, color='r)`\n",
        "- plots the point (x1,x2) as a red point\n",
        "- Colors are: `['k', 'b', 'r', 'g', 'c', 'm', 'y']`\n",
        "- bool_class0 = (y==0) #select samples belonging to class 0\n",
        "\n",
        "Other useful functions:\n",
        "`plt.xlabel()`, `plt.ylabel()`, `plt.leggend()`, `plt.show()`\n",
        "\n"
      ],
      "metadata": {
        "id": "aAOtEEM2i6kc"
      }
    },
    {
      "cell_type": "code",
      "source": [
        "import matplotlib.pyplot as plt\n",
        "\n",
        "def plot_dataset(x,y,d0,d1):\n",
        "  n_classes = np.unique(y).size\n",
        "  colors = ['r.', 'g.', 'b.', 'y.', 'c.', 'm.', 'k.']\n",
        "  n_colors = len(colors)\n",
        "  for k in range(n_classes):\n",
        "\n",
        "    plt.plot(x[y==k,d0],x[y==k,d1],colors[k%n_colors],label='class')\n",
        "  plt.legend()\n",
        "  plt.xlabel('feature x'+ str(d0))\n",
        "  plt.ylabel('feature x'+ str(d1))\n",
        "  plt.show()\n",
        "plot_dataset(x,y,0,1)"
      ],
      "metadata": {
        "colab": {
          "base_uri": "https://localhost:8080/",
          "height": 279
        },
        "id": "lj9ZRRT5l2db",
        "outputId": "3ffb734e-9635-4fb9-f4b7-0439f2e469d2"
      },
      "execution_count": null,
      "outputs": [
        {
          "output_type": "display_data",
          "data": {
            "text/plain": [
              "<Figure size 432x288 with 1 Axes>"
            ],
            "image/png": "[encoded data removed]"
          },
          "metadata": {
            "needs_background": "light"
          }
        }
      ]
    },
    {
      "cell_type": "markdown",
      "source": [
        "## Exercise 3 MNC Classifier"
      ],
      "metadata": {
        "id": "QInVb0gluzOD"
      }
    }
  ]
}