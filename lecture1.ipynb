{
  "nbformat": 4,
  "nbformat_minor": 0,
  "metadata": {
    "colab": {
      "name": "lecture1.ipynb",
      "provenance": [],
      "collapsed_sections": [],
      "authorship_tag": "ABX9TyMObJ3H2QUJdw4WOjXHhFFJ",
      "include_colab_link": true
    },
    "kernelspec": {
      "name": "python3",
      "display_name": "Python 3"
    },
    "language_info": {
      "name": "python"
    }
  },
  "cells": [
    {
      "cell_type": "markdown",
      "metadata": {
        "id": "view-in-github",
        "colab_type": "text"
      },
      "source": [
        "<a href=\"https://colab.research.google.com/github/matteasu/ML-exercises/blob/main/lecture1.ipynb\" target=\"_parent\"><img src=\"https://colab.research.google.com/assets/colab-badge.svg\" alt=\"Open In Colab\"/></a>"
      ]
    },
    {
      "cell_type": "markdown",
      "source": [
        "##Exercise 1\n",
        "\n",
        "- Crete an ndarray x of shape = (5,4) with random numbers\n",
        "  - each of the 5 rows represents a sample with 4 features\n",
        "- Create a flat ndarray y of shape = (5,) whose elements are 0 and 1\n",
        "  - each element is the class of the corresponding sample in x\n",
        "\n",
        "**Hint**:\n",
        "\n",
        "    use np.random.rand() and np.random.randint"
      ],
      "metadata": {
        "id": "uIkKOdKWbwrn"
      }
    },
    {
      "cell_type": "code",
      "execution_count": 22,
      "metadata": {
        "colab": {
          "base_uri": "https://localhost:8080/"
        },
        "id": "wdslAaWabRa1",
        "outputId": "d2efeaf6-5bd2-48fb-8d3d-5a683a9c3bc9"
      },
      "outputs": [
        {
          "output_type": "stream",
          "name": "stdout",
          "text": [
            "x\n",
            "[[0.54591904 0.9141933  0.74013096 0.59567374]\n",
            " [0.73955956 0.32928107 0.59816598 0.26536125]\n",
            " [0.82049662 0.35175629 0.10669475 0.77500206]\n",
            " [0.93341268 0.8836477  0.65690892 0.41001517]\n",
            " [0.32608268 0.05977031 0.34172637 0.21661125]]\n",
            "y\n",
            "[0 1 1 0 0]\n"
          ]
        }
      ],
      "source": [
        "import numpy as np\n",
        "x_rows = 5\n",
        "x_cols = 4\n",
        "y_cols = 1\n",
        "start = 0\n",
        "end = 2\n",
        "x = np.random.rand(x_rows,x_cols)\n",
        "y = np.random.randint(start,end,[x_rows,])\n",
        "#or with rand randm(size) > 0.5\n",
        "print(\"x\")\n",
        "print(x)\n",
        "print(\"y\")\n",
        "print(y)"
      ]
    },
    {
      "cell_type": "markdown",
      "source": [
        "## Exercise 2\n",
        "- Define a function `extract_subset(x, y, y0)` that takes as input:\n",
        "  - the feature matrix x, and the labels y from the previous exercise\n",
        "  - a target class y0 (i.e either y0=0 or y0=1)\n",
        "- and returns a feature matrix containing only samples belonging to y0\n",
        "\n",
        "**Hint**\n",
        "\n",
        "    use array indexing with y==y0"
      ],
      "metadata": {
        "id": "xOWpWGEwevrw"
      }
    },
    {
      "cell_type": "code",
      "source": [
        "def extract_subset(x,y,y0=0):\n",
        "  return x[y==y0,:]\n",
        "\n",
        "print(extract_subset(x,y,0))"
      ],
      "metadata": {
        "colab": {
          "base_uri": "https://localhost:8080/"
        },
        "id": "sJpGcHjXfUrX",
        "outputId": "03cdb447-4904-417a-f0ca-6315f4339162"
      },
      "execution_count": 23,
      "outputs": [
        {
          "output_type": "stream",
          "name": "stdout",
          "text": [
            "[[0.54591904 0.9141933  0.74013096 0.59567374]\n",
            " [0.93341268 0.8836477  0.65690892 0.41001517]\n",
            " [0.32608268 0.05977031 0.34172637 0.21661125]]\n"
          ]
        }
      ]
    },
    {
      "cell_type": "markdown",
      "source": [
        "## Exercise 3\n",
        "- define a function `min_feature_values(x)` that returns the minimum value of each feature in x\n",
        "- apply it on the previously extracted samples x0 of class 0\n",
        "\n",
        "**Hint**\n",
        "\n",
        "    use np.min with a proper axis value\n",
        "\n",
        "With axis value 1 it gives the minimum across different columns\n",
        "With axis value 0 it gives the minimum across different rows"
      ],
      "metadata": {
        "id": "hbDr-DmChDiy"
      }
    },
    {
      "cell_type": "code",
      "source": [
        "def min_feature_values(x):\n",
        "  return np.min(x,axis=0)\n",
        "\n",
        "print(min_feature_values(extract_subset(x,y,0)))"
      ],
      "metadata": {
        "colab": {
          "base_uri": "https://localhost:8080/"
        },
        "id": "sKUzALvehYy1",
        "outputId": "983e30b5-0d56-4b0a-cba7-2306a94ea117"
      },
      "execution_count": 24,
      "outputs": [
        {
          "output_type": "stream",
          "name": "stdout",
          "text": [
            "[0.32608268 0.05977031 0.34172637 0.21661125]\n"
          ]
        }
      ]
    },
    {
      "cell_type": "markdown",
      "source": [
        "## Exercise 4\n",
        "- define a function `make_gaussian_dataset(n0, n1, mu0, mu1)` that generates a two-class gaussian dataset in a bi-dimensional space\n",
        "- n0, n1 are the number of samples for class 0 and class 1\n",
        "- mu0, mu1 are the mean of the two Gaussians (one per class)\n",
        "\n",
        "We consider only Gaussian distributions with covariance equal to the identity matrix here for simplyicity \n",
        "- The function returns the corresponding feature matrix and labels x,y\n",
        "\n",
        "**Hint**\n",
        "- use np.random.randn() to generate random numbers from a standard gaussian distribution, with zero mean and unit variance, then transform them to have a different mean (x2 per class)\n",
        "- use np.ones and/or np.zeros for class labels\n",
        "- use vstack or hstack to concatenate arrays\n",
        "\n",
        "\n",
        "\n"
      ],
      "metadata": {
        "id": "49TaMUMGkldy"
      }
    },
    {
      "cell_type": "code",
      "source": [
        "n0 = 10\n",
        "n1 = 10\n",
        "#the means have to be a vector since i'm in a bidimensional space\n",
        "mu0 = [0, 0]\n",
        "mu1 = [5, 5]\n",
        "def make_gaussian_dataset(n0, n1, mu0, mu1):\n",
        "  # cast the lists to arrays\n",
        "  mu0 = np.array(mu0)\n",
        "  mu1 = np.array(mu1)\n",
        "  # generating samples\n",
        "  n_features = mu0.shape[0]\n",
        "  # we add the mean to obbtain the wanted mean\n",
        "  x0 = np.random.randn(n0, n_features) + mu0 #python broadcasting\n",
        "  y0 = np.zeros(shape=[n0,]) #class labels\n",
        "  x1 = np.random.randn(n1, n_features) + mu1\n",
        "  y1 = np.ones(shape=[n0,])\n",
        "\n",
        "  #concatenate data and labels\n",
        "\n",
        "  x = np.vstack((x0,x1))\n",
        "  y = np.hstack((y0,y1))\n",
        "  return x,y\n",
        "\n",
        "  #from matplotlib import pyplot as plt\n",
        "  #plt.plot(x0[:,0],x0[:,1],'.') #plotting the first and second column\n",
        "  #plt.show()\n",
        "\n",
        "\n",
        "xn,yn = make_gaussian_dataset(10,10,[-1,-1],[+1,+1])\n",
        "print('xn:\\n',xn)\n",
        "print('yn:\\n',yn) "
      ],
      "metadata": {
        "colab": {
          "base_uri": "https://localhost:8080/"
        },
        "id": "FqNA1Gjdjt-D",
        "outputId": "9fab1f69-5e08-4d37-f710-d8123aa54922"
      },
      "execution_count": 26,
      "outputs": [
        {
          "output_type": "stream",
          "name": "stdout",
          "text": [
            "xn:\n",
            " [[-0.31920297 -1.12432698]\n",
            " [-0.44221873 -0.27261646]\n",
            " [-0.11681923 -0.92694944]\n",
            " [ 0.61675415 -1.477455  ]\n",
            " [-1.84590937 -1.52979504]\n",
            " [ 0.39326852 -0.24459244]\n",
            " [-0.76806789 -0.71785062]\n",
            " [-0.85633547 -0.27215762]\n",
            " [-1.63260969  0.29697721]\n",
            " [-2.18330009 -3.71731781]\n",
            " [ 1.34758826  1.28740794]\n",
            " [ 2.58090716  0.23089906]\n",
            " [ 1.24332202  2.60318469]\n",
            " [-0.00994825  0.62532443]\n",
            " [ 1.84181811  0.29187226]\n",
            " [ 0.79736333  0.01961835]\n",
            " [-0.30965741  1.88794142]\n",
            " [-0.23532419  1.49748763]\n",
            " [-0.34917881  0.33458628]\n",
            " [ 0.44399991 -0.32066401]]\n",
            "yn:\n",
            " [0. 0. 0. 0. 0. 0. 0. 0. 0. 0. 1. 1. 1. 1. 1. 1. 1. 1. 1. 1.]\n"
          ]
        }
      ]
    }
  ]
}