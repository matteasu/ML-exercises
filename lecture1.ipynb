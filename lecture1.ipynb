{
  "nbformat": 4,
  "nbformat_minor": 0,
  "metadata": {
    "colab": {
      "name": "lecture1.ipynb",
      "provenance": [],
      "collapsed_sections": [],
      "authorship_tag": "ABX9TyPz0fC59hytak6tiPeAKC5Z",
      "include_colab_link": true
    },
    "kernelspec": {
      "name": "python3",
      "display_name": "Python 3"
    },
    "language_info": {
      "name": "python"
    }
  },
  "cells": [
    {
      "cell_type": "markdown",
      "metadata": {
        "id": "view-in-github",
        "colab_type": "text"
      },
      "source": [
        "<a href=\"https://colab.research.google.com/github/matteasu/ML-exercises/blob/main/lecture1.ipynb\" target=\"_parent\"><img src=\"https://colab.research.google.com/assets/colab-badge.svg\" alt=\"Open In Colab\"/></a>"
      ]
    },
    {
      "cell_type": "markdown",
      "source": [
        "##Exercise 1\n",
        "\n",
        "- Crete an ndarray x of shape = (5,4) with random numbers\n",
        "  - each of the 5 rows represents a sample with 4 features\n",
        "- Create a flat ndarray y of shape = (5,) whose elements are 0 and 1\n",
        "  - each element is the class of the corresponding sample in x\n",
        "\n",
        "**Hint**:\n",
        "\n",
        "    use np.random.rand() and np.random.randint"
      ],
      "metadata": {
        "id": "uIkKOdKWbwrn"
      }
    },
    {
      "cell_type": "code",
      "execution_count": 8,
      "metadata": {
        "id": "wdslAaWabRa1"
      },
      "outputs": [],
      "source": [
        "import numpy as np\n",
        "x_rows = 5\n",
        "x_cols = 4\n",
        "y_cols = 1\n",
        "start = 0\n",
        "end = 2\n",
        "x = np.random.rand(x_rows,x_cols)\n",
        "y = np.random.randint(start,end,[x_rows,])\n",
        "#or with rand randm(size) > 0.5\n"
      ]
    },
    {
      "cell_type": "markdown",
      "source": [
        "## Exercise 2\n",
        "- Define a function `extract_subset(x, y, y0)` that takes as input:\n",
        "  - the feature matrix x, and the labels y from the previous exercise\n",
        "  - a target class y0 (i.e either y0=0 or y0=1)\n",
        "- and returns a feature matrix containing only samples belonging to y0\n",
        "\n",
        "**Hint**\n",
        "\n",
        "    use array indexing with y==y0"
      ],
      "metadata": {
        "id": "xOWpWGEwevrw"
      }
    },
    {
      "cell_type": "code",
      "source": [
        "def extract_subset(x,y,y0=0):\n",
        "  return x[y==y0,:]"
      ],
      "metadata": {
        "colab": {
          "base_uri": "https://localhost:8080/"
        },
        "id": "sJpGcHjXfUrX",
        "outputId": "0e94e4ae-5ceb-4a92-9dbe-b526df541fee"
      },
      "execution_count": 11,
      "outputs": [
        {
          "output_type": "stream",
          "name": "stdout",
          "text": [
            "[[0.51445358 0.63940065 0.19946504 0.94573375]\n",
            " [0.03416667 0.27149433 0.04869924 0.97903118]\n",
            " [0.73919549 0.38672063 0.52330456 0.46165871]]\n"
          ]
        }
      ]
    },
    {
      "cell_type": "markdown",
      "source": [
        "## Exercise 3\n",
        "- define a function `min_feature_values(x)` that returns the minimum value of each feature in x\n",
        "- apply it on the previously extracted samples x0 of class 0\n",
        "\n",
        "**Hint**\n",
        "\n",
        "    use np.min with a proper axis value\n",
        "\n",
        "With axis value 1 it gives the minimum across different columns\n",
        "With axis value 0 it gives the minimum across different rows"
      ],
      "metadata": {
        "id": "hbDr-DmChDiy"
      }
    },
    {
      "cell_type": "code",
      "source": [
        "def min_feature_values(x):\n",
        "  return np.min(x,axis=0)\n",
        "\n",
        "print(min_feature_values(extract_subset(x,y,0)))"
      ],
      "metadata": {
        "colab": {
          "base_uri": "https://localhost:8080/"
        },
        "id": "sKUzALvehYy1",
        "outputId": "14f252a2-237f-45d5-9d67-f1ebf8f1f931"
      },
      "execution_count": 17,
      "outputs": [
        {
          "output_type": "stream",
          "name": "stdout",
          "text": [
            "[0.03416667 0.27149433 0.04869924 0.46165871]\n"
          ]
        }
      ]
    }
  ]
}