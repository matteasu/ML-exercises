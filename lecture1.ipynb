{
  "nbformat": 4,
  "nbformat_minor": 0,
  "metadata": {
    "colab": {
      "name": "lecture1.ipynb",
      "provenance": [],
      "collapsed_sections": [],
      "authorship_tag": "ABX9TyPtyh/oxn7eVi3NPTQmYTSc",
      "include_colab_link": true
    },
    "kernelspec": {
      "name": "python3",
      "display_name": "Python 3"
    },
    "language_info": {
      "name": "python"
    }
  },
  "cells": [
    {
      "cell_type": "markdown",
      "metadata": {
        "id": "view-in-github",
        "colab_type": "text"
      },
      "source": [
        "<a href=\"https://colab.research.google.com/github/matteasu/ML-exercises/blob/main/lecture1.ipynb\" target=\"_parent\"><img src=\"https://colab.research.google.com/assets/colab-badge.svg\" alt=\"Open In Colab\"/></a>"
      ]
    },
    {
      "cell_type": "markdown",
      "source": [
        "##Exercise 1\n",
        "\n",
        "- Crete an ndarray x of shape = (5,4) with random numbers\n",
        "  - each of the 5 rows represents a sample with 4 features\n",
        "- Create a flat ndarray y of shape = (5,) whose elements are 0 and 1\n",
        "  - each element is the class of the corresponding sample in x\n",
        "\n",
        "**Hint**:\n",
        "\n",
        "    use np.random.rand() and np.random.randint"
      ],
      "metadata": {
        "id": "uIkKOdKWbwrn"
      }
    },
    {
      "cell_type": "code",
      "execution_count": 8,
      "metadata": {
        "id": "wdslAaWabRa1"
      },
      "outputs": [],
      "source": [
        "import numpy as np\n",
        "x_rows = 5\n",
        "x_cols = 4\n",
        "y_cols = 1\n",
        "start = 0\n",
        "end = 2\n",
        "x = np.random.rand(x_rows,x_cols)\n",
        "y = np.random.randint(start,end,[x_rows,])\n",
        "#or with rand randm(size) > 0.5\n"
      ]
    }
  ]
}